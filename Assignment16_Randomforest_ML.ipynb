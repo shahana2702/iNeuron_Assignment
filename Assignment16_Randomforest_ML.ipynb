{
 "cells": [
  {
   "cell_type": "markdown",
   "metadata": {},
   "source": [
    "In this assignment students will build the random forest model after\n",
    "normalizing the variable to house pricing from boston data set."
   ]
  },
  {
   "cell_type": "code",
   "execution_count": 66,
   "metadata": {},
   "outputs": [
    {
     "name": "stdout",
     "output_type": "stream",
     "text": [
      "Minium and maximum of targets 5.0 50.0\n"
     ]
    }
   ],
   "source": [
    "import numpy as np\n",
    "import pandas as pd\n",
    "import matplotlib.pyplot as plt\n",
    "import seaborn as sns\n",
    "from sklearn.ensemble import RandomForestClassifier\n",
    "from sklearn.model_selection import train_test_split\n",
    "from sklearn.model_selection import GridSearchCV\n",
    "from sklearn.preprocessing import StandardScaler\n",
    "from sklearn import datasets\n",
    "boston = datasets.load_boston()\n",
    "features = pd.DataFrame(boston.data,columns=boston.feature_names)\n",
    "targets = boston.target\n",
    "print(\"Minium and maximum of targets\",min(targets),max(targets))\n",
    "targets = (boston.target >30).astype(int)#whole target less than 30 assigned as 0 else as 1"
   ]
  },
  {
   "cell_type": "code",
   "execution_count": 67,
   "metadata": {},
   "outputs": [
    {
     "data": {
      "text/plain": [
       "array([0, 0, 1, 1, 1, 0, 0, 0, 0, 0, 0, 0, 0, 0, 0, 0, 0, 0, 0, 0, 0, 0,\n",
       "       0, 0, 0, 0, 0, 0, 0, 0, 0, 0, 0, 0, 0, 0, 0, 0, 0, 1, 1, 0, 0, 0,\n",
       "       0, 0, 0, 0, 0, 0, 0, 0, 0, 0, 0, 1, 0, 1, 0, 0, 0, 0, 0, 0, 1, 0,\n",
       "       0, 0, 0, 0, 0, 0, 0, 0, 0, 0, 0, 0, 0, 0, 0, 0, 0, 0, 0, 0, 0, 0,\n",
       "       0, 0, 0, 0, 0, 0, 0, 0, 0, 1, 1, 1, 0, 0, 0, 0, 0, 0, 0, 0, 0, 0,\n",
       "       0, 0, 0, 0, 0, 0, 0, 0, 0, 0, 0, 0, 0, 0, 0, 0, 0, 0, 0, 0, 0, 0,\n",
       "       0, 0, 0, 0, 0, 0, 0, 0, 0, 0, 0, 0, 0, 0, 0, 0, 0, 0, 0, 0, 0, 0,\n",
       "       0, 0, 0, 1, 0, 0, 0, 1, 1, 1, 0, 0, 1, 0, 0, 0, 0, 0, 0, 0, 0, 0,\n",
       "       0, 0, 0, 1, 1, 1, 1, 1, 0, 0, 1, 1, 0, 1, 1, 1, 1, 1, 0, 1, 1, 1,\n",
       "       1, 1, 1, 0, 1, 1, 1, 0, 0, 0, 0, 0, 0, 0, 0, 0, 0, 0, 0, 0, 0, 0,\n",
       "       0, 0, 0, 1, 1, 1, 1, 1, 1, 1, 0, 1, 1, 1, 0, 0, 0, 1, 0, 0, 0, 0,\n",
       "       0, 0, 0, 0, 0, 0, 0, 0, 0, 0, 0, 1, 0, 0, 1, 1, 1, 1, 1, 1, 1, 1,\n",
       "       1, 0, 1, 1, 1, 0, 0, 0, 0, 1, 1, 1, 1, 1, 0, 1, 1, 1, 1, 1, 1, 0,\n",
       "       0, 0, 0, 0, 0, 1, 0, 0, 0, 0, 0, 0, 0, 0, 0, 0, 0, 1, 1, 0, 1, 0,\n",
       "       0, 0, 0, 0, 0, 0, 0, 0, 0, 0, 0, 0, 0, 0, 0, 0, 0, 0, 0, 0, 0, 0,\n",
       "       0, 0, 0, 0, 0, 0, 0, 0, 0, 0, 0, 1, 0, 0, 1, 0, 0, 0, 0, 0, 0, 0,\n",
       "       0, 1, 0, 0, 0, 0, 0, 0, 0, 0, 0, 0, 0, 0, 0, 0, 1, 1, 1, 1, 1, 0,\n",
       "       0, 0, 0, 0, 0, 0, 0, 0, 0, 0, 0, 0, 0, 0, 0, 0, 0, 0, 0, 0, 0, 0,\n",
       "       0, 0, 0, 0, 0, 0, 0, 0, 0, 0, 0, 0, 0, 0, 0, 0, 0, 0, 0, 0, 0, 0,\n",
       "       0, 0, 0, 0, 0, 0, 0, 0, 0, 0, 0, 0, 0, 0, 0, 0, 0, 0, 0, 0, 0, 0,\n",
       "       0, 0, 0, 0, 0, 0, 0, 0, 0, 0, 0, 0, 0, 0, 0, 0, 0, 0, 0, 0, 0, 0,\n",
       "       0, 0, 0, 0, 0, 0, 0, 0, 0, 0, 0, 0, 0, 0, 0, 0, 0, 0, 0, 0, 0, 0,\n",
       "       0, 0, 0, 0, 0, 0, 0, 0, 0, 0, 0, 0, 0, 0, 0, 0, 0, 0, 0, 0, 0, 0])"
      ]
     },
     "execution_count": 67,
     "metadata": {},
     "output_type": "execute_result"
    }
   ],
   "source": [
    "#targets=targets.astype(int)\n",
    "targets"
   ]
  },
  {
   "cell_type": "code",
   "execution_count": 68,
   "metadata": {},
   "outputs": [],
   "source": [
    "rand_clf = RandomForestClassifier(random_state=6)"
   ]
  },
  {
   "cell_type": "code",
   "execution_count": 69,
   "metadata": {},
   "outputs": [
    {
     "name": "stdout",
     "output_type": "stream",
     "text": [
      "[0 0 0 0 0 0 1 0 0 0 0 1 0 0 0 0 0 1 0 0 0 1 0 0 0 0 0 0 1 0 0 0 0 0 0 0 1\n",
      " 0 0 0 1 1 1 0 0 0 1 0 1 0 0 0 0 1 1 1 0 0 0 1 0 1 0 0 0 0 0 0 1 0 0 0 1 0\n",
      " 0 0 0 0 0 0 0 0 0 0 0 0 0 0 0 1 0 0 0 0 0 0 0 0 0 0 0 1 1 1 0 1 1 0 0 0 0\n",
      " 0 0 0 0 0 1 0 0 0 0 1 0 0 0 0 0 0 1 0 0 1 0 0 0 0 0 1 0 0 0 1 1 1 0 0 0 1\n",
      " 0 0 0 0 0 0 0 0 0 0 0 0 0 1 0 0 1 0 0 0 0 0 0 0 0 0 0 0 0 0 0 0 0 0 0 0 0\n",
      " 1 0 0 1 1 0 0 1 0 0 0 0 1 0 0 0 0 0 1 0 1 0 0 0 0 1 0 1 0 0 0 0 0 0 0 0 0\n",
      " 1 0 0 0 1 0 0 0 0 1 0 0 0 0 0 0 0 0 0 0 0 1 0 0 0 1 0 0 0 1 0 1 0 0 0 0 0\n",
      " 0 0 0 0 0 0 0 1 0 0 0 0 0 0 0 1 0 0 0 0 0 1 1 0 0 0 1 0 0 0 0 0 0 0 0 0 1\n",
      " 0 0 1 0 0 0 1 0 0 0 0 0 0 1 0 1 0 0 0 0 1 0 0 0 0 0 1 1 0 0 0 0 0 0 0 0 0\n",
      " 0 0 0 0 0 0]\n"
     ]
    }
   ],
   "source": [
    "x_train, x_test, y_train, y_test = train_test_split(features, targets, test_size=0.33, random_state=42)\n",
    "print(y_train)"
   ]
  },
  {
   "cell_type": "code",
   "execution_count": 70,
   "metadata": {},
   "outputs": [
    {
     "name": "stderr",
     "output_type": "stream",
     "text": [
      "F:\\anacoda3\\lib\\site-packages\\sklearn\\ensemble\\forest.py:246: FutureWarning: The default value of n_estimators will change from 10 in version 0.20 to 100 in 0.22.\n",
      "  \"10 in version 0.20 to 100 in 0.22.\", FutureWarning)\n"
     ]
    },
    {
     "data": {
      "text/plain": [
       "RandomForestClassifier(bootstrap=True, class_weight=None, criterion='gini',\n",
       "            max_depth=None, max_features='auto', max_leaf_nodes=None,\n",
       "            min_impurity_decrease=0.0, min_impurity_split=None,\n",
       "            min_samples_leaf=1, min_samples_split=2,\n",
       "            min_weight_fraction_leaf=0.0, n_estimators=10, n_jobs=None,\n",
       "            oob_score=False, random_state=6, verbose=0, warm_start=False)"
      ]
     },
     "execution_count": 70,
     "metadata": {},
     "output_type": "execute_result"
    }
   ],
   "source": [
    "rand_clf.fit(x_train,y_train) "
   ]
  },
  {
   "cell_type": "code",
   "execution_count": 72,
   "metadata": {},
   "outputs": [
    {
     "name": "stdout",
     "output_type": "stream",
     "text": [
      "Before GridSearch :  0.9760479041916168\n"
     ]
    }
   ],
   "source": [
    "print(\"Before GridSearch : \",rand_clf.score(x_test,y_test))"
   ]
  },
  {
   "cell_type": "raw",
   "metadata": {},
   "source": [
    "GridSearchCV is a method used to tune our hyperparameters. We can pass different values of hyperparameters as parameters for grid search. It does a exhaustive generation of combination of different parameters passed. Using cross validation score, Grid Search returns the combination of hyperparameters for which the model is performing the best."
   ]
  },
  {
   "cell_type": "code",
   "execution_count": 64,
   "metadata": {},
   "outputs": [
    {
     "name": "stdout",
     "output_type": "stream",
     "text": [
      "Fitting 5 folds for each of 20736 candidates, totalling 103680 fits\n"
     ]
    },
    {
     "name": "stderr",
     "output_type": "stream",
     "text": [
      "[Parallel(n_jobs=-1)]: Using backend LokyBackend with 4 concurrent workers.\n",
      "[Parallel(n_jobs=-1)]: Done  24 tasks      | elapsed:   14.7s\n",
      "[Parallel(n_jobs=-1)]: Done 120 tasks      | elapsed:   43.3s\n",
      "[Parallel(n_jobs=-1)]: Done 280 tasks      | elapsed:  1.5min\n",
      "[Parallel(n_jobs=-1)]: Done 504 tasks      | elapsed:  2.6min\n",
      "[Parallel(n_jobs=-1)]: Done 792 tasks      | elapsed:  4.0min\n",
      "[Parallel(n_jobs=-1)]: Done 1144 tasks      | elapsed:  6.1min\n",
      "[Parallel(n_jobs=-1)]: Done 1560 tasks      | elapsed:  6.9min\n",
      "[Parallel(n_jobs=-1)]: Done 2040 tasks      | elapsed:  7.5min\n",
      "[Parallel(n_jobs=-1)]: Done 2584 tasks      | elapsed:  8.2min\n",
      "[Parallel(n_jobs=-1)]: Done 3192 tasks      | elapsed:  8.9min\n",
      "[Parallel(n_jobs=-1)]: Done 3864 tasks      | elapsed:  9.8min\n",
      "[Parallel(n_jobs=-1)]: Done 4600 tasks      | elapsed: 10.7min\n",
      "[Parallel(n_jobs=-1)]: Done 5400 tasks      | elapsed: 11.7min\n",
      "[Parallel(n_jobs=-1)]: Done 6264 tasks      | elapsed: 12.8min\n",
      "[Parallel(n_jobs=-1)]: Done 7192 tasks      | elapsed: 14.0min\n",
      "[Parallel(n_jobs=-1)]: Done 8184 tasks      | elapsed: 15.2min\n",
      "[Parallel(n_jobs=-1)]: Done 9240 tasks      | elapsed: 16.6min\n",
      "[Parallel(n_jobs=-1)]: Done 10360 tasks      | elapsed: 18.0min\n",
      "[Parallel(n_jobs=-1)]: Done 11544 tasks      | elapsed: 19.5min\n",
      "[Parallel(n_jobs=-1)]: Done 12792 tasks      | elapsed: 21.1min\n",
      "[Parallel(n_jobs=-1)]: Done 14104 tasks      | elapsed: 46.6min\n",
      "[Parallel(n_jobs=-1)]: Done 15480 tasks      | elapsed: 48.4min\n",
      "[Parallel(n_jobs=-1)]: Done 16920 tasks      | elapsed: 50.2min\n",
      "[Parallel(n_jobs=-1)]: Done 18424 tasks      | elapsed: 52.1min\n",
      "[Parallel(n_jobs=-1)]: Done 19992 tasks      | elapsed: 54.1min\n",
      "[Parallel(n_jobs=-1)]: Done 21624 tasks      | elapsed: 56.2min\n",
      "[Parallel(n_jobs=-1)]: Done 23320 tasks      | elapsed: 58.4min\n",
      "[Parallel(n_jobs=-1)]: Done 25080 tasks      | elapsed: 60.6min\n",
      "[Parallel(n_jobs=-1)]: Done 26904 tasks      | elapsed: 62.9min\n",
      "[Parallel(n_jobs=-1)]: Done 28792 tasks      | elapsed: 76.3min\n",
      "[Parallel(n_jobs=-1)]: Done 30744 tasks      | elapsed: 78.9min\n",
      "[Parallel(n_jobs=-1)]: Done 32760 tasks      | elapsed: 81.4min\n",
      "[Parallel(n_jobs=-1)]: Done 34840 tasks      | elapsed: 84.1min\n",
      "[Parallel(n_jobs=-1)]: Done 36984 tasks      | elapsed: 86.9min\n",
      "[Parallel(n_jobs=-1)]: Done 39192 tasks      | elapsed: 89.7min\n",
      "[Parallel(n_jobs=-1)]: Done 41464 tasks      | elapsed: 92.6min\n",
      "[Parallel(n_jobs=-1)]: Done 43800 tasks      | elapsed: 102.7min\n",
      "[Parallel(n_jobs=-1)]: Done 46200 tasks      | elapsed: 106.0min\n",
      "[Parallel(n_jobs=-1)]: Done 48664 tasks      | elapsed: 109.3min\n",
      "[Parallel(n_jobs=-1)]: Done 51192 tasks      | elapsed: 112.6min\n",
      "[Parallel(n_jobs=-1)]: Done 53784 tasks      | elapsed: 116.3min\n",
      "[Parallel(n_jobs=-1)]: Done 56440 tasks      | elapsed: 120.2min\n",
      "[Parallel(n_jobs=-1)]: Done 59160 tasks      | elapsed: 124.2min\n",
      "[Parallel(n_jobs=-1)]: Done 61944 tasks      | elapsed: 129.1min\n",
      "[Parallel(n_jobs=-1)]: Done 64792 tasks      | elapsed: 133.9min\n",
      "[Parallel(n_jobs=-1)]: Done 67704 tasks      | elapsed: 138.0min\n",
      "[Parallel(n_jobs=-1)]: Done 70680 tasks      | elapsed: 142.2min\n",
      "[Parallel(n_jobs=-1)]: Done 73720 tasks      | elapsed: 146.4min\n",
      "[Parallel(n_jobs=-1)]: Done 76824 tasks      | elapsed: 150.6min\n",
      "[Parallel(n_jobs=-1)]: Done 79992 tasks      | elapsed: 155.0min\n",
      "[Parallel(n_jobs=-1)]: Done 83224 tasks      | elapsed: 159.3min\n",
      "[Parallel(n_jobs=-1)]: Done 86520 tasks      | elapsed: 163.6min\n",
      "[Parallel(n_jobs=-1)]: Done 89880 tasks      | elapsed: 168.1min\n",
      "[Parallel(n_jobs=-1)]: Done 93304 tasks      | elapsed: 173.3min\n",
      "[Parallel(n_jobs=-1)]: Done 96792 tasks      | elapsed: 178.9min\n",
      "[Parallel(n_jobs=-1)]: Done 100344 tasks      | elapsed: 184.5min\n",
      "[Parallel(n_jobs=-1)]: Done 103680 out of 103680 | elapsed: 189.7min finished\n"
     ]
    },
    {
     "data": {
      "text/plain": [
       "{'criterion': 'entropy',\n",
       " 'max_depth': 9,\n",
       " 'max_features': 'auto',\n",
       " 'min_samples_leaf': 1,\n",
       " 'min_samples_split': 2,\n",
       " 'n_estimators': 100}"
      ]
     },
     "execution_count": 64,
     "metadata": {},
     "output_type": "execute_result"
    }
   ],
   "source": [
    "grid_param = {\n",
    "    \"n_estimators\" : [90,100,115,130],\n",
    "    'criterion': ['gini', 'entropy'],\n",
    "    'max_depth' : range(2,20,1),\n",
    "    'min_samples_leaf' : range(1,10,1),\n",
    "    'min_samples_split': range(2,10,1),\n",
    "    'max_features' : ['auto','log2']\n",
    "}\n",
    "grid_search = GridSearchCV(estimator=rand_clf,param_grid=grid_param,cv=5,n_jobs =-1,verbose = 3)\n",
    "grid_search.fit(x_train,y_train)#this step will take time while running\n",
    "\n",
    "grid_search.best_params_"
   ]
  },
  {
   "cell_type": "code",
   "execution_count": 65,
   "metadata": {},
   "outputs": [
    {
     "name": "stdout",
     "output_type": "stream",
     "text": [
      "After GridSearchCV :  0.9640718562874252\n"
     ]
    }
   ],
   "source": [
    "rand_clf = RandomForestClassifier(n_estimators=100,criterion = 'entropy', max_depth =9, min_samples_leaf= 1, min_samples_split= 2, max_features ='auto')\n",
    "rand_clf.fit(x_train,y_train)\n",
    "print(\"After GridSearchCV : \",rand_clf.score(x_test,y_test))"
   ]
  },
  {
   "cell_type": "code",
   "execution_count": null,
   "metadata": {},
   "outputs": [],
   "source": []
  }
 ],
 "metadata": {
  "kernelspec": {
   "display_name": "Python 3",
   "language": "python",
   "name": "python3"
  },
  "language_info": {
   "codemirror_mode": {
    "name": "ipython",
    "version": 3
   },
   "file_extension": ".py",
   "mimetype": "text/x-python",
   "name": "python",
   "nbconvert_exporter": "python",
   "pygments_lexer": "ipython3",
   "version": "3.7.6"
  }
 },
 "nbformat": 4,
 "nbformat_minor": 4
}
