{
 "cells": [
  {
   "cell_type": "markdown",
   "metadata": {},
   "source": [
    "Write a function so that the columns of the output matrix are powers of the input\n",
    "vector.\n"
   ]
  },
  {
   "cell_type": "code",
   "execution_count": null,
   "metadata": {},
   "outputs": [],
   "source": [
    "import numpy as np\n",
    "x=[11,12,13,14,15]\n",
    "a=int(input(\"Enter value of increasing argument(1 for True 0 for false):\\t\"))\n",
    "if(a==1):\n",
    "    b=True\n",
    "elif(a==0):\n",
    "    b=False\n",
    "else:\n",
    "    b=9\n",
    "    \n",
    "if((b==True)or(b==False)):\n",
    "    k=np.vander(x,N=5,increasing=b)\n",
    "    print(k)\n",
    "else:\n",
    "    print(\"Enter value either True or False\")"
   ]
  },
  {
   "cell_type": "markdown",
   "metadata": {},
   "source": [
    "Write a function to find moving average in an array over a window:\n",
    "Test it over [3, 5, 7, 2, 8, 10, 11, 65, 72, 81, 99, 100, 150] and window of 3."
   ]
  },
  {
   "cell_type": "code",
   "execution_count": 74,
   "metadata": {
    "scrolled": true
   },
   "outputs": [
    {
     "name": "stdout",
     "output_type": "stream",
     "text": [
      "============================================================\n",
      "The moving averages of\n",
      "[  3   5   7   2   8  10  11  65  72  81  99 100 150] is as below\n",
      "============================================================\n",
      "[5.0, 4.666666666666667, 5.666666666666667, 6.666666666666667, 9.666666666666666, 28.666666666666668, 49.333333333333336, 72.66666666666667, 84.0, 93.33333333333333, 116.33333333333333]\n"
     ]
    }
   ],
   "source": [
    "import numpy as np\n",
    "import pandas as pd\n",
    "numbers=[3, 5, 7, 2, 8, 10, 11, 65, 72, 81, 99, 100, 150]\n",
    "window_size = 3\n",
    "arr=np.array(numbers)\n",
    "n=3\n",
    "out=[]\n",
    "print(\"=\"*60)\n",
    "print (\"The moving averages of\")\n",
    "print(arr,\"is as below\")\n",
    "print(\"=\"*60)\n",
    "for i in range(0,len(arr)):\n",
    "    arr_slice=arr[i:i+3]\n",
    "    if(len(arr_slice)==3):\n",
    "        out.append(sum(arr_slice)/window_size)\n",
    "    else:\n",
    "        break\n",
    "a1=pd.Series(out)\n",
    "print(out)"
   ]
  },
  {
   "cell_type": "code",
   "execution_count": null,
   "metadata": {},
   "outputs": [],
   "source": []
  }
 ],
 "metadata": {
  "kernelspec": {
   "display_name": "Python 3",
   "language": "python",
   "name": "python3"
  },
  "language_info": {
   "codemirror_mode": {
    "name": "ipython",
    "version": 3
   },
   "file_extension": ".py",
   "mimetype": "text/x-python",
   "name": "python",
   "nbconvert_exporter": "python",
   "pygments_lexer": "ipython3",
   "version": "3.7.6"
  }
 },
 "nbformat": 4,
 "nbformat_minor": 4
}
