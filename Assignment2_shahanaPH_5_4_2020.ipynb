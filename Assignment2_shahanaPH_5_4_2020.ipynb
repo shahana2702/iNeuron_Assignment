{
 "cells": [
  {
   "cell_type": "markdown",
   "metadata": {},
   "source": [
    "Task 1:\n",
    "1.1\n",
    "Write a Python Program to implement your own myreduce() function which works exactly like\n",
    "Python's built-in function reduce()"
   ]
  },
  {
   "cell_type": "code",
   "execution_count": 4,
   "metadata": {},
   "outputs": [
    {
     "name": "stdout",
     "output_type": "stream",
     "text": [
      "Sum of items in list :  45\n",
      "Product of items in list :  362880\n",
      "After recduce operation :  IamlearningPython\n"
     ]
    }
   ],
   "source": [
    "def myreduce(list1,list2):\n",
    "    sum=0\n",
    "    pro=1\n",
    "    reduce=\"\"\n",
    "    for i in list1:\n",
    "        sum=sum+i\n",
    "        pro=pro*int(i)\n",
    "    for j in list2:\n",
    "        reduce=reduce+j\n",
    "    \n",
    "    print(\"Sum of items in list : \",sum)\n",
    "    print(\"Product of items in list : \",pro)\n",
    "    print(\"After recduce operation : \",reduce)\n",
    "    return\n",
    "\n",
    "list1=list(range(1,10))\n",
    "list2=[\"I\",\"am\",\"learning\",\"Python\"]\n",
    "myreduce(list1,list2)"
   ]
  },
  {
   "cell_type": "markdown",
   "metadata": {},
   "source": [
    "1.2\n",
    "Write a Python program to implement your own myfilter() function which works exactly like\n",
    "Python's built-in function filter()\n"
   ]
  },
  {
   "cell_type": "code",
   "execution_count": 5,
   "metadata": {},
   "outputs": [
    {
     "name": "stdout",
     "output_type": "stream",
     "text": [
      "Enter number of item in your integer list:5\n",
      "Enter 0th item in your integer list:10\n",
      "Enter 1th item in your integer list:9\n",
      "Enter 2th item in your integer list:77\n",
      "Enter 3th item in your integer list:54\n",
      "Enter 4th item in your integer list:33\n",
      "[10, 9, 77, 54, 33]\n",
      "The new list contains items which are divisible by 2 is \n",
      " [10, 54]\n"
     ]
    }
   ],
   "source": [
    "l=[]\n",
    "r=[]\n",
    "\n",
    "def myfilter(l):\n",
    "    for j in l:\n",
    "        if((j%2)==0):\n",
    "            r.append(j)\n",
    "    print(\"The new list contains items which are divisible by 2 is \\n\",r)    \n",
    "\n",
    "\n",
    "n=input(\"Enter number of item in your integer list:\")\n",
    "n=int(n)\n",
    "\n",
    "for i in range(0,n):\n",
    "    l.append(int(input(\"Enter %dth item in your integer list:\"%i)))\n",
    "print(l)\n",
    "myfilter(l)"
   ]
  },
  {
   "cell_type": "markdown",
   "metadata": {},
   "source": [
    "2.Implement List comprehensions to produce the following lists.\n",
    "Write List comprehensions to produce the following Lists\n",
    "\n",
    "['x', 'xx', 'xxx', 'xxxx', 'y', 'yy', 'yyy', 'yyyy', 'z', 'zz', 'zzz', 'zzzz']\n",
    "\n",
    "['x', 'y', 'z', 'xx', 'yy', 'zz', 'xx', 'yy', 'zz', 'xxxx', 'yyyy', 'zzzz']\n",
    "\n",
    "[[2], [3], [4], [3], [4], [5], [4], [5], [6]]\n",
    "\n",
    "[[2, 3, 4, 5], [3, 4, 5, 6], [4, 5, 6, 7], [5, 6, 7, 8]]\n",
    "\n",
    "[(1, 1), (2, 1), (3, 1), (1, 2), (2, 2), (3, 2), (1, 3), (2, 3), (3, 3)]\n"
   ]
  },
  {
   "cell_type": "code",
   "execution_count": 6,
   "metadata": {},
   "outputs": [
    {
     "name": "stdout",
     "output_type": "stream",
     "text": [
      "['x', 'xx', 'xxx', 'xxxx', 'y', 'yy', 'yyy', 'yyyy', 'z', 'zz', 'zzz', 'zzzz']\n",
      "['x', 'y', 'z', 'xx', 'yy', 'zz', 'xxx', 'yyy', 'zzz', 'xxxx', 'yyyy', 'zzzz']\n",
      "[[2], [3], [4], [3], [4], [5], [4], [5], [6]]\n",
      "[[2, 3, 4, 5], [3, 4, 5, 6], [4, 5, 6, 7], [5, 6, 7, 8]]\n",
      "[(1, 1), (2, 1), (3, 1), (1, 2), (2, 2), (3, 2), (1, 3), (2, 3), (3, 3)]\n"
     ]
    }
   ],
   "source": [
    "alphabets = [\"x\", \"y\", \"z\"]\n",
    "f1=[]\n",
    "for x in alphabets:\n",
    "    for i in range(1,5):\n",
    "        f1.append(x*i)\n",
    "print(f1)\n",
    "\n",
    "f2=[]\n",
    "for i in range(1,5):\n",
    "        for x in alphabets:\n",
    "            f2.append(x*i)\n",
    "print(f2)\n",
    "\n",
    "\n",
    "f3=[]\n",
    "for i in range(2,5):\n",
    "        for j in range(0,3):\n",
    "            f3.append([i+j])\n",
    "print(f3)\n",
    "\n",
    "f4=[]\n",
    "f3=[]\n",
    "for i in range(2,6):\n",
    "        f4=[]\n",
    "        for j in range(0,4):     \n",
    "            f4.append(i+j)\n",
    "        f3.append(f4)\n",
    "print(f3)\n",
    "\n",
    "f2=[]\n",
    "for i in range(1,4):\n",
    "    for j in range(1,4):\n",
    "        f2.append((j,i))\n",
    "print(f2)"
   ]
  },
  {
   "cell_type": "markdown",
   "metadata": {},
   "source": [
    "3.\n",
    "Implement a function longestWord() that takes a list of words and returns the longest one.\n"
   ]
  },
  {
   "cell_type": "code",
   "execution_count": 8,
   "metadata": {},
   "outputs": [
    {
     "name": "stdout",
     "output_type": "stream",
     "text": [
      "Enter number of item in your string list:2\n",
      "Enter 0th item in your string list:stay at\n",
      "Enter 1th item in your string list:home\n",
      "The list is :  ['stay at', 'home']\n",
      "Longest word in the list :  stay at\n"
     ]
    }
   ],
   "source": [
    "l=[]\n",
    "\n",
    "def filter_long_words(l):\n",
    "    k=0\n",
    "    for i in l:\n",
    "        if len(i)>k:\n",
    "            k=len(i)\n",
    "            s=i\n",
    "    return s\n",
    "\n",
    "n=input(\"Enter number of item in your string list:\")\n",
    "n=int(n)\n",
    "for i in range(0,n):\n",
    "    l.append(input(\"Enter %ith item in your string list:\"%i))\n",
    "print(\"The list is : \",l)\n",
    "s=filter_long_words(l)\n",
    "print(\"Longest word in the list : \",s)\n"
   ]
  },
  {
   "cell_type": "markdown",
   "metadata": {},
   "source": [
    "Task 2:"
   ]
  },
  {
   "cell_type": "markdown",
   "metadata": {},
   "source": [
    "\n",
    "1.1\n",
    "Write a Python Program(with class concepts) to find the area of the triangle using the below\n",
    "formula.\n",
    "area = (s*(s-a)*(s-b)*(s-c)) ** 0.5\n",
    "Function to take the length of the sides of triangle from user should be defined in the parent\n",
    "class and function to calculate the area should be defined in subclass.\n"
   ]
  },
  {
   "cell_type": "code",
   "execution_count": 9,
   "metadata": {},
   "outputs": [
    {
     "name": "stdout",
     "output_type": "stream",
     "text": [
      "The area of a triangle 15.0\n"
     ]
    }
   ],
   "source": [
    "class parent_Class:\n",
    "    def __init__(obj,s,a,b,c):\n",
    "        obj.s=s;\n",
    "        obj.b=b;\n",
    "        obj.c=c;\n",
    "\n",
    "class child_class(parent_Class):\n",
    "    def __init__(obj):\n",
    "        parent_Class.__init__(obj,s,a,b,c)\n",
    "        obj.s1=s;\n",
    "        obj.a1=a;\n",
    "        obj.b1=b;\n",
    "        obj.c1=c;\n",
    "         \n",
    "    def calculate(obj):\n",
    "        k0=(obj.s1)\n",
    "        k1=(obj.s1-obj.a1)\n",
    "        k2=(obj.s1-obj.b1)\n",
    "        k3=(obj.s1-obj.c1)\n",
    "        k=k0*k1*k2*k3*0.5\n",
    "        return k\n",
    "\n",
    "s=5;\n",
    "b=3;\n",
    "a=4;\n",
    "c=2;\n",
    "obj1=parent_Class(s,a,b,c)\n",
    "obj2=child_class()\n",
    "print(\"The area of a triangle\",obj2.calculate())"
   ]
  },
  {
   "cell_type": "markdown",
   "metadata": {},
   "source": [
    "1.2\n",
    "Write a function filter_long_words() that takes a list of words and an integer n and returns the list\n",
    "of words that are longer than n.\n"
   ]
  },
  {
   "cell_type": "code",
   "execution_count": 10,
   "metadata": {},
   "outputs": [
    {
     "name": "stdout",
     "output_type": "stream",
     "text": [
      "Enter number of item in your string list:5\n",
      "Enter 0th item in your string list:hai\n",
      "Enter 1th item in your string list:how\n",
      "Enter 2th item in your string list:are\n",
      "Enter 3th item in your string list:you\n",
      "Enter 4th item in your string list:doing\n",
      "The list is :  ['hai', 'how', 'are', 'you', 'doing']\n",
      "Enter a number :4\n",
      "Words in the new list :  ['doing']\n"
     ]
    }
   ],
   "source": [
    "l=[]\n",
    "final=[]\n",
    "def filter_long_words(l,final):\n",
    "    n1=input(\"Enter a number :\")\n",
    "    n1=int(n1)\n",
    "    for i in l:\n",
    "        if len(i)>n1:\n",
    "            k=len(i)\n",
    "            s=i\n",
    "            final.append(s)\n",
    "    return final\n",
    "\n",
    "n=input(\"Enter number of item in your string list:\")\n",
    "n=int(n)\n",
    "for i in range(0,n):\n",
    "    l.append(input(\"Enter %ith item in your string list:\"%i))\n",
    "print(\"The list is : \",l)\n",
    "final=filter_long_words(l,final)\n",
    "print(\"Words in the new list : \",final)"
   ]
  },
  {
   "cell_type": "markdown",
   "metadata": {},
   "source": [
    "2.1\n",
    "Write a Python program using function concept that maps list of words into a list of integers\n",
    "representing the lengths of the corresponding words .\n",
    "Hint: If a list [ ab,cde,erty] is passed on to the python function output should come as [2,3,4]\n",
    "Here 2,3 and 4 are the lengths of the words in the list.\n"
   ]
  },
  {
   "cell_type": "code",
   "execution_count": 11,
   "metadata": {},
   "outputs": [
    {
     "name": "stdout",
     "output_type": "stream",
     "text": [
      "Enter number of item in your string list:5\n",
      "Enter 0th item in your list:parrot\n",
      "Enter 1th item in your list:elephant\n",
      "Enter 2th item in your list:fox\n",
      "Enter 3th item in your list:puppy\n",
      "Enter 4th item in your list:lion\n",
      "The list is :  ['parrot', 'elephant', 'fox', 'puppy', 'lion']\n",
      "The length of items in the list :  [6, 8, 3, 5, 4]\n"
     ]
    }
   ],
   "source": [
    "l=[]\n",
    "final=[]\n",
    "n=input(\"Enter number of item in your string list:\")\n",
    "n=int(n)\n",
    "\n",
    "for i in range(0,n):\n",
    "    l.append(input(\"Enter %ith item in your list:\"%i))\n",
    "print(\"The list is : \",l)\n",
    "for i in l:\n",
    "        final.append(len(i))\n",
    "print(\"The length of items in the list : \",final)"
   ]
  },
  {
   "cell_type": "markdown",
   "metadata": {},
   "source": [
    "2.2\n",
    "Write a Python function which takes a character (i.e. a string of length 1) and returns True if it is\n",
    "a vowel, False otherwise."
   ]
  },
  {
   "cell_type": "code",
   "execution_count": 12,
   "metadata": {},
   "outputs": [
    {
     "name": "stdout",
     "output_type": "stream",
     "text": [
      "Enter a character : L\n",
      "False\n"
     ]
    }
   ],
   "source": [
    "alphabet=input(\"Enter a character : \")\n",
    "m=['a','e','i','o','u','A','E','I','O','U']\n",
    "flag=\"\"\n",
    "\n",
    "def vowel(list1,ch):\n",
    "    for i in list1:\n",
    "        if ch==i :\n",
    "            flag=\"True\"\n",
    "            break\n",
    "        else:\n",
    "            flag=\"False\"\n",
    "    return flag\n",
    "\n",
    "flag=vowel(m,alphabet)\n",
    "print(flag)"
   ]
  }
 ],
 "metadata": {
  "kernelspec": {
   "display_name": "Python 3",
   "language": "python",
   "name": "python3"
  }
 },
 "nbformat": 4,
 "nbformat_minor": 4
}
